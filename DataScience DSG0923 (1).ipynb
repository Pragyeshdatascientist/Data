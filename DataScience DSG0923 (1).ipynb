{
 "cells": [
  {
   "cell_type": "code",
   "execution_count": 1,
   "id": "acc3141b",
   "metadata": {},
   "outputs": [
    {
     "name": "stdout",
     "output_type": "stream",
     "text": [
      "Pragyesg Singh\n"
     ]
    }
   ],
   "source": [
    "print(\"Pragyesg Singh\")"
   ]
  },
  {
   "cell_type": "code",
   "execution_count": 1,
   "id": "268bfc17",
   "metadata": {},
   "outputs": [
    {
     "name": "stdout",
     "output_type": "stream",
     "text": [
      "55\n"
     ]
    }
   ],
   "source": [
    "print(10+45)"
   ]
  },
  {
   "cell_type": "code",
   "execution_count": 4,
   "id": "fc1cab17-2def-4f95-9b64-39a7852851d2",
   "metadata": {},
   "outputs": [
    {
     "name": "stdout",
     "output_type": "stream",
     "text": [
      "thakur hariom singh\n"
     ]
    }
   ],
   "source": [
    "print(\"thakur hariom singh\")"
   ]
  },
  {
   "cell_type": "code",
   "execution_count": 2,
   "id": "bb55b808",
   "metadata": {},
   "outputs": [
    {
     "name": "stdout",
     "output_type": "stream",
     "text": [
      "Hello Data Science\n"
     ]
    }
   ],
   "source": [
    "print(\"Hello Data Science\")"
   ]
  },
  {
   "cell_type": "code",
   "execution_count": null,
   "id": "8dee621d",
   "metadata": {},
   "outputs": [],
   "source": []
  }
 ],
 "metadata": {
  "kernelspec": {
   "display_name": "Python 3 (ipykernel)",
   "language": "python",
   "name": "python3"
  },
  "language_info": {
   "codemirror_mode": {
    "name": "ipython",
    "version": 3
   },
   "file_extension": ".py",
   "mimetype": "text/x-python",
   "name": "python",
   "nbconvert_exporter": "python",
   "pygments_lexer": "ipython3",
   "version": "3.11.7"
  }
 },
 "nbformat": 4,
 "nbformat_minor": 5
}
